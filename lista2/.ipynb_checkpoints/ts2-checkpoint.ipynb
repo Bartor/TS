{
 "cells": [
  {
   "cell_type": "markdown",
   "metadata": {},
   "source": [
    "# Technologie sieciowe 2 - sprawozdanie"
   ]
  },
  {
   "cell_type": "markdown",
   "metadata": {},
   "source": [
    "## Opis zadań"
   ]
  },
  {
   "cell_type": "markdown",
   "metadata": {},
   "source": [
    "Lista składa się z dwóch części. Pierwszą jest badanie sieci zadanej przez prowadzącego:\n",
    "\n",
    "> Niech S = < G, H > będzie modelem sieci takim, że zbiór V grafu G = < V, E > zawiera 20 wierzchołków oznaczonych przez v(i), dla i = 1,..20; a zbiór E zawiera 19 krawędzi e(j,j+1), dla j = 1, ...,19, (przy czym zapis e(j,k) oznacza krawędź łączącą wierzchołki v(i) i v(k) ). Zbiór H zawiera funkcję niezawodości 'h' przyporządkowującą każdej krawędzi e(j,k) ze zbioru E wartość 0.95 oznacząjącą prawdopodobieństwo nieuszkodzenia (nierozerwania) tego kanału komunikacyjnego w dowolnym przedziale czasowym."
   ]
  },
  {
   "cell_type": "markdown",
   "metadata": {},
   "source": [
    "Druga część to badanie sieci wymyślonej przez nas samych: \n",
    "\n",
    "> Rozważmy model sieci S = < G, H >. Przez N=[n(i,j)] będziemy oznaczać macierz natężeń strumienia pakietów, gdzie element n(i,j) jest liczbą pakietów przesyłanych (wprowadzanych do sieci) w ciągu sekundy od źródła v(i) do ujścia v(j). Zaproponuj topologię grafu G ale tak aby żaden wierzchołek nie był izolowany oraz aby: |V|=10, |E|<20. Zaproponuj N oraz następujące funkcje krawędzi ze zbioru H: funkcję przepustowości 'c' (rozumianą jako maksymalną liczbę bitów, którą można wprowadzić do kanału komunikacyjnego w ciągu sekundy), oraz funkcję przepływu 'a' (rozumianą jako faktyczną liczbę pakietów, które wprowadza się do kanału komunikacyjego w ciągu sekundy). Pamiętaj aby funkcja przeplywu realizowała macierz N oraz aby dla każdego kanału 'e' zachodziło: c(e) > a(e)."
   ]
  },
  {
   "cell_type": "markdown",
   "metadata": {},
   "source": [
    "## Przebieg doświadczeń"
   ]
  },
  {
   "cell_type": "markdown",
   "metadata": {},
   "source": [
    "### 1 Model sieci pierwszej"
   ]
  },
  {
   "cell_type": "markdown",
   "metadata": {},
   "source": [
    "Używać będziemy biblioteki `networkx` do pracy na grafach oraz `matplotlib` do rysowania grafów. Dodatkowo potrzebujemy biblioteki `random`."
   ]
  },
  {
   "cell_type": "code",
   "execution_count": 55,
   "metadata": {},
   "outputs": [],
   "source": [
    "import networkx as nx\n",
    "import matplotlib.pyplot as plt\n",
    "import numpy as np\n",
    "import random"
   ]
  },
  {
   "cell_type": "markdown",
   "metadata": {},
   "source": [
    "Naszym pierwszym celem jest:\n",
    ">Napisz program szacujący niezawodność (rozumianą jako prawdopodobieństwo nierozspójnienia) takiej sieci w dowolnym interwale. \n",
    "\n",
    "Do czego posłuży nam poniższy kawałek kodu:"
   ]
  },
  {
   "cell_type": "code",
   "execution_count": 56,
   "metadata": {},
   "outputs": [],
   "source": [
    "def first():\n",
    "    G = nx.Graph()\n",
    "    for i in range(20):\n",
    "        G.add_node(i)\n",
    "        if i > 0:\n",
    "            if random.uniform(0, 1) < 0.95:\n",
    "                G.add_edge(i-1, i)\n",
    "    return nx.is_connected(G)"
   ]
  },
  {
   "cell_type": "markdown",
   "metadata": {},
   "source": [
    "Dodatkowo zdefiniujemy funkcję `success_rate` wykonującą `n` powtórzeń zadanej funkcji `f` zwracającej prawdę lub fałsz i porównuje stosunek sukcesów do włącznej ilości wywołań."
   ]
  },
  {
   "cell_type": "code",
   "execution_count": 57,
   "metadata": {},
   "outputs": [],
   "source": [
    "def success_rate(f, n):\n",
    "    success = 0\n",
    "    for i in range(n):\n",
    "        if f():\n",
    "            success += 1\n",
    "    return success/n"
   ]
  },
  {
   "cell_type": "markdown",
   "metadata": {},
   "source": [
    "W ten sposób otrzymujemy wynik na pierwsze pytanie:"
   ]
  },
  {
   "cell_type": "code",
   "execution_count": 58,
   "metadata": {},
   "outputs": [
    {
     "name": "stdout",
     "output_type": "stream",
     "text": [
      "First: 0.372\n"
     ]
    }
   ],
   "source": [
    "print(\"First:\", success_rate(first, 10000))"
   ]
  },
  {
   "cell_type": "markdown",
   "metadata": {},
   "source": [
    "Kolejnymi zadaniami są:\n",
    ">Jak zmieni się niezawodność tej sieci po dodaniu krawędzi e(1,20) takiej, że h(e(1,20))=0.95\n",
    "\n",
    "\n",
    ">A jak zmieni się niezawodność tej sieci gdy dodatkowo dodamy jeszcze krawędzie e(1,10) oraz e(5,15) takie, że: h(e(1,10))=0.8, a h(e(5,15))=0.7.\n",
    "\n",
    "\n",
    ">A jak zmieni się niezawodność tej sieci gdy dodatkowo dodamy jeszcze 4 krawedzie pomiedzy losowymi wierzchołkami o h=0.4.\n",
    "\n",
    "Na które zdefiniujemy następujące funkcje:"
   ]
  },
  {
   "cell_type": "code",
   "execution_count": 59,
   "metadata": {},
   "outputs": [],
   "source": [
    "def second():\n",
    "    G = nx.Graph()\n",
    "    for i in range(20):\n",
    "        G.add_node(i)\n",
    "        if i > 0:\n",
    "            if random.uniform(0, 1) < 0.95:\n",
    "                G.add_edge(i-1, i)\n",
    "    if random.uniform(0, 1) < 0.95:\n",
    "        G.add_edge(0, 19)\n",
    "    return nx.is_connected(G)\n",
    "\n",
    "def third():\n",
    "    G = nx.Graph()\n",
    "    for i in range(20):\n",
    "        G.add_node(i)\n",
    "        if i > 0:\n",
    "            if random.uniform(0, 1) < 0.95:\n",
    "                G.add_edge(i-1, i)\n",
    "    if random.uniform(0, 1) < 0.95:\n",
    "        G.add_edge(0, 19)\n",
    "    if random.uniform(0, 1) < 0.8:\n",
    "        G.add_edge(0, 9)\n",
    "    if random.uniform(0, 1) < 0.7:\n",
    "        G.add_edge(4, 14)\n",
    "    return nx.is_connected(G)\n",
    "\n",
    "def fourth():\n",
    "    G = nx.Graph()\n",
    "    for i in range(20):\n",
    "        G.add_node(i)\n",
    "        if i > 0:\n",
    "            if random.uniform(0, 1) < 0.95:\n",
    "                G.add_edge(i-1, i)\n",
    "    if random.uniform(0, 1) < 0.95:\n",
    "        G.add_edge(0, 19)\n",
    "    if random.uniform(0, 1) < 0.8:\n",
    "        G.add_edge(0, 9)\n",
    "    if random.uniform(0, 1) < 0.7:\n",
    "        G.add_edge(4, 14)\n",
    "\n",
    "    for i in range(4):\n",
    "        r1 = random.randrange(20)\n",
    "        r2 = random.randrange(20)\n",
    "        while (r1, r2) in G.edges:\n",
    "            r1 = random.randrange(20)\n",
    "            r2 = random.randrange(20)\n",
    "        if random.uniform(0, 1) < 0.4:\n",
    "            G.add_edge(r1, r2)\n",
    "    return nx.is_connected(G)"
   ]
  },
  {
   "cell_type": "markdown",
   "metadata": {},
   "source": [
    "Wynikiem ich wywołań będą:"
   ]
  },
  {
   "cell_type": "code",
   "execution_count": 60,
   "metadata": {},
   "outputs": [
    {
     "name": "stdout",
     "output_type": "stream",
     "text": [
      "Second: 0.7319\n",
      "Third: 0.8728\n",
      "Fourth: 0.9093\n"
     ]
    }
   ],
   "source": [
    "print(\"Second:\", success_rate(second, 10000))\n",
    "print(\"Third:\", success_rate(third, 10000))\n",
    "print(\"Fourth:\", success_rate(fourth, 10000))"
   ]
  },
  {
   "cell_type": "markdown",
   "metadata": {},
   "source": [
    "### 2. Model sieci drugiej"
   ]
  },
  {
   "cell_type": "markdown",
   "metadata": {},
   "source": [
    "Po zapoznaniu się z samouczkiem bilbioteki `networkx` moją uwagę przykuł wskazany tak jako przykład graf Petersena, który spełniał wymagania zadane przez specyfikację. Posiada on równo 10 wierzchołków oraz 15 krawędzi. Możemy go prosto zwizualizować używając pythona:"
   ]
  },
  {
   "cell_type": "code",
   "execution_count": 61,
   "metadata": {},
   "outputs": [
    {
     "data": {
      "image/png": "[encoded data removed]",
      "text/plain": [
       "<Figure size 432x288 with 1 Axes>"
      ]
     },
     "metadata": {},
     "output_type": "display_data"
    }
   ],
   "source": [
    "G = nx.petersen_graph()\n",
    "nx.draw(G)"
   ]
  },
  {
   "cell_type": "markdown",
   "metadata": {},
   "source": [
    "Na sam początek zdefiniujmy metody pomocnicze, `succ_rate` działającą jak `sucess_rate`, ale z argumentami dla wywoływanej funkcji oraz `works` określającą, czy podany do niej graf \"działa\" w pojedynczym wypadku:"
   ]
  },
  {
   "cell_type": "code",
   "execution_count": 62,
   "metadata": {},
   "outputs": [],
   "source": [
    "def succ_rate(f, n, *args):\n",
    "    success = 0\n",
    "    for i in range(n):\n",
    "        if f(*args):\n",
    "            success += 1\n",
    "    return success/n\n",
    "\n",
    "def works(graph, N, p, T_max):\n",
    "    #copies list of edges\n",
    "    edges = list(graph.edges)\n",
    "\n",
    "    for e_start, e_end in edges:\n",
    "        #if the edge doesn't work, we remove it\n",
    "        if random.uniform(0, 1) > p:\n",
    "            graph.remove_edge(e_start, e_end)\n",
    "\n",
    "            if not nx.is_connected(graph):\n",
    "                return False\n",
    "            #we recreate the load_matrix\n",
    "            a = [[0 for x in range(len(N))] for y in range(len(N))]\n",
    "            for i in range(len(N)):\n",
    "                for j in range(len(N[i])):\n",
    "                    path = nx.shortest_path(graph, source=i, target=j)\n",
    "                    for v in range(len(path)):\n",
    "                        if v != len(path) - 1:\n",
    "                            a[path[v]][path[v+1]] += N[i][j]\n",
    "                            if a[path[v]][path[v+1]] >= graph[path[v]][path[v+1]]['c']:\n",
    "                                return False\n",
    "            #and reapply it\n",
    "            for e_start, e_end in graph.edges:\n",
    "                graph[e_start][e_end]['a'] = a[e_start][e_end]\n",
    "    T = average_latency(graph)\n",
    "    return T < T_max"
   ]
  },
  {
   "cell_type": "markdown",
   "metadata": {},
   "source": [
    "Zauważmy, że sieć nie działa, jeżeli:\n",
    "1. Nie jest spójna.\n",
    "2. Któraś krawędź przekracza przepustowość.\n",
    "3. Średnie opóźnienie przekracza określone maksymalne opóźnienie.\n",
    "\n",
    "Teraz zdefiniować możemy `experiment`, który będzie \"ciałem\" naszego doświadczenia:"
   ]
  },
  {
   "cell_type": "code",
   "execution_count": 63,
   "metadata": {},
   "outputs": [],
   "source": [
    "def experiment(*args):\n",
    "    #size is the number of nodes\n",
    "    SIZE = 10\n",
    "\n",
    "    #peterser is optimal here\n",
    "    graph = nx.petersen_graph()\n",
    "\n",
    "    #arbitraty large number by observation\n",
    "    c = [[150]*SIZE]*SIZE\n",
    "\n",
    "    #N[i][j] = 10 <=> 10 packets are sent between i and j\n",
    "    N = []\n",
    "    for i in range(len(c)):\n",
    "        sub = []\n",
    "        for j in range(len(c)):\n",
    "            if i != j:\n",
    "                sub.append(random.randint(5, 10))\n",
    "            else:\n",
    "                sub.append(0)\n",
    "        N.append(sub)\n",
    "    \n",
    "    #a[i][j] = 120 <=> edge between i and j transports 120 packets every second\n",
    "    a = [[0 for x in range(len(N))] for y in range(len(N))]\n",
    "    for i in range(len(N)):\n",
    "        for j in range(len(N[i])):\n",
    "            path = nx.shortest_path(graph, source=i, target=j)\n",
    "            for v in range(len(path)):\n",
    "                if v != len(path) - 1:\n",
    "                    a[path[v]][path[v+1]] += N[i][j]\n",
    "\n",
    "    #we set capacity of every edge and its load\n",
    "    for e_start, e_end in graph.edges:\n",
    "       graph[e_start][e_end]['c'] = c[e_start][e_end]\n",
    "       graph[e_start][e_end]['a'] = a[e_start][e_end]\n",
    "\n",
    "    #we check if the network will work\n",
    "    return works(graph, N, *args)"
   ]
  },
  {
   "cell_type": "markdown",
   "metadata": {},
   "source": [
    "W powyższym kodzie:\n",
    "- `c` - macierz określająca przepustowość pomiędzy dowolnymi wierzchołkami `i` oraz `j`, tu ustawiona jako funkcja stała z przyczyn praktycznych\n",
    "- `N` - macierz określająca, ile danych jest przesyłane z `i` do `j`\n",
    "- `a` - macierz okreslająca, ile danych jest przesyłane bezpośrednim połączeniem sąsiadujących komórek `i` oraz `j`, czyli właściwa macierz obciążeń."
   ]
  },
  {
   "cell_type": "markdown",
   "metadata": {},
   "source": [
    "Dane z kodu zbieramy przy pomocy poniższego fragmentu, czyli iterując po różnych szansach uszkodzenia połączenia oraz maksymalnych dopuszczalnych średnich opóźnieniach (który z przyczyn praktycznych jest zakomentowany):"
   ]
  },
  {
   "cell_type": "code",
   "execution_count": 64,
   "metadata": {},
   "outputs": [],
   "source": [
    "# for i in np.linspace(0.3, 0.95, 30):\n",
    "#     for j in np.linspace(0.025, 0.01, 30):\n",
    "#         print('{:f},{:f},{:f}'.format(i, j, success_rate(experiment, 1000, i, j)))"
   ]
  },
  {
   "cell_type": "markdown",
   "metadata": {},
   "source": [
    "## Analiza wyników\n",
    "### 1. Sieć podana\n",
    "1. Do policzenia \"sprawności\" sieci w pierwszym podpunkcie mogliśmy użyć prostej matematyki - sieć jest sprawna bowiem wtedy i tylko wtedy, kiedy wszystkie połączenia funkcjonują. Prawdopodobieństwo na to wynosi dokładnie 0.95^19 = 0.37735360253530761511306362152099609375 a nasz wynik otrzymany eksperymentalnie nie odbiega od tej wartości daleko.\n",
    "\n",
    "\n",
    "2. Drugi przypadek jest trudniejszy do przeanalizowania matematycznie, ale logicznie utworzenie grafu cyklicznego zwiększa dwukrotnie jego podatność na zerwanie, bowiem do dowolnego elementu z elementu `i` można dojść na dwa sposoby zamiast jednego. Otrzymany wynik utwierdza nas w tym przekonaniu.\n",
    "\n",
    "\n",
    "3. Przy dodaniu dwóch krawędzi pomiędzy \"najbardziej\" oddalonymi od siebie wierzchołkami możemy spodziewać się dużej poprawny niezawodności sieci. Wynik wyższy o około 10% od poprzedniej konfiguracji nas w tym utwierdza.\n",
    "\n",
    "\n",
    "4. Finalne cztery krawędzie dodawane losowo (w moim wypadku tylko pomiędzy wierzchołkami jeszcze niepołączonymi) nie powinny nieść ze sobą aż tak imponującego wzrostu niezawodności ze względu na niepewność pokrycia najbardziej oddalonych punktów. Najlepsze rezultaty uzyskalibyśmy najpewniej dodając krawędzie pomiędzy wierzchołkami 2 i 6, 8 i 12, 12 i 16 czy 16 i 18."
   ]
  },
  {
   "cell_type": "markdown",
   "metadata": {},
   "source": [
    "### 2. Sieć modelowana\n",
    "Najlepszą ilustracją otrzymanych wyników będzie trójwymiarowy wykres:\n",
    "![Wykres pod kątem](sprawozdanie/wykres-angle.png)![Wykres z przodu](sprawozdanie/wykres-front.png)![Wykres od p](sprawozdanie/wykres-p.png)![Wykres z góry](sprawozdanie/wykres-top.png)"
   ]
  },
  {
   "cell_type": "markdown",
   "metadata": {},
   "source": [
    "Został on utworzony na podstawie wygenerowanych danych CSV używając narzędzia odnalezionego w internecie pod [tym adresem](http://almende.github.io/chap-links-library/js/graph3d/playground/). Możemy teraz przejść do jego analizy."
   ]
  },
  {
   "cell_type": "markdown",
   "metadata": {},
   "source": [
    "Osie przedstawiają dwie zmienne i wynikową sprawność. Wysoka sprawność oznaczona jest przez czerwony kolor, a niska przez niebieski. Zakres zmiennych został ustalony na drodze eksperymentalnej, aby uzyskać jak najlepiej widoczne wyniki. Z obserwacji wynika kilka faktów:\n",
    "- w tym modelu największy wpływ na sprawność sieci na prawdopodobieństwo zerwania w niej połączeń. Na przedostatnim wykresie wyraźnie widać gwałtowny spadek sprawności niezależnie od określonego maksymalnego opóźnienia w sieci.\n",
    "- maksymalne dopuszczalne opóźnienie ma największy wpływ na sprawność sieci najbliżej swojego punktu krytycznego. Ilustruje to dwa fakty; po pierwsze, odchylenie losowych średnich opóźnień jest niewielkie i stąd najmniejsza zmiana w dopuszczalnym maksymalnym opóźnieniu przy punkcie krytycznym ma mocny wpływ na sprawność sieci (widać to dobrze na ostatnim i drugim wykresie), a po drugie wyższa tolerancja na duże średnie opóźnienie praktycznie nie wpływa na jej całkowitą sprawność."
   ]
  },
  {
   "cell_type": "markdown",
   "metadata": {},
   "source": [
    "## Podsumowanie\n",
    "Ze względu na przeprowadzone eksperymenty mogę stwierdzić, że najlepszym sposobem na budowanie sprawnych sieci jest łączenie możliwie najodleglejszych jej fragmentów nowymi kradziami oraz minimalizacja prawdopodobieństwa zerwania krawędzi. Tolerancja na wyższe opóźnienia na wpływ na sprawność sieci dopiero przy krytycznych jej wartościach."
   ]
  }
 ],
 "metadata": {
  "kernelspec": {
   "display_name": "Python 3",
   "language": "python",
   "name": "python3"
  },
  "language_info": {
   "codemirror_mode": {
    "name": "ipython",
    "version": 3
   },
   "file_extension": ".py",
   "mimetype": "text/x-python",
   "name": "python",
   "nbconvert_exporter": "python",
   "pygments_lexer": "ipython3",
   "version": "3.7.0"
  }
 },
 "nbformat": 4,
 "nbformat_minor": 2
}
